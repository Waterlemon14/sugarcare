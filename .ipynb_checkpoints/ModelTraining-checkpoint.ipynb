{
 "cells": [
  {
   "cell_type": "markdown",
   "id": "04e3dcd9-0e56-41e8-9968-94d5a1dd0d1c",
   "metadata": {},
   "source": [
    "# \"insert team name\" Model Training and validation notebook\n",
    "<font color='blue'>\n",
    "<br>Content: \n",
    "    \n",
    "* [Dependencies](#1)\n",
    "* [Normalization, Reshape and Label Encoding ](#2)\n",
    "* [Train Test Split](#3)\n",
    "* [{AI Model 1}](#4)\n",
    "    * [Create Model](#)\n",
    "    * [Define Optimizer](#)\n",
    "    * [Compile Model](#)\n",
    "    * [Epochs and Batch Size](#)\n",
    "    * [Data Augmentation](#)\n",
    "    * [Fit the Model](#)\n",
    "    * [Evaluate the Model](#)\n",
    "* [{AI Model 2}](#4)\n",
    "    * [Create Model](#)\n",
    "    * [Define Optimizer](#)\n",
    "    * [Compile Model](#)\n",
    "    * [Epochs and Batch Size](#)\n",
    "    * [Data Augmentation](#)\n",
    "    * [Fit the Model](#)\n",
    "    * [Evaluate the Model](#)\n",
    "\n"
   ]
  },
  {
   "cell_type": "markdown",
   "id": "a1dbca98-d6a2-4463-9c90-d6a95f28dbf2",
   "metadata": {},
   "source": [
    "Image dimensions: 768 × 1024\n",
    "\n",
    "Channels: 3 (RGB)\n",
    "\n",
    "Total data in given dataset: 4314\n",
    "\n",
    "Distribution:\n",
    "* Banded_Chlorosis: 424\n",
    "* Brown_Rust: 282\n",
    "* Brown_Spot: 1550\n",
    "* Healthy: 387\n",
    "* Viral: 597\n",
    "* Yellow_Leaf: 1074\n"
   ]
  },
  {
   "cell_type": "markdown",
   "id": "2ba67b7a-b9b3-4129-a490-f2f52173700d",
   "metadata": {},
   "source": [
    "<a id=\"1\"></a>\n",
    "## Dependencies\n",
    "* Installing and importing dependencies of the project"
   ]
  },
  {
   "cell_type": "code",
   "execution_count": 1,
   "id": "1a1b4ae1-22cd-439a-92bd-5ecf221767ab",
   "metadata": {},
   "outputs": [],
   "source": [
    "# !pip install tensorflow"
   ]
  },
  {
   "cell_type": "code",
   "execution_count": 2,
   "id": "78281134-5626-4558-8828-c4804d126c12",
   "metadata": {},
   "outputs": [],
   "source": [
    "import numpy as np # linear algebra\n",
    "import pandas as pd # data processing, CSV file I/O (e.g. pd.read_csv)\n",
    "import seaborn as sns \n",
    "import matplotlib.pyplot as plt\n",
    "\n",
    "from PIL import Image\n",
    "\n",
    "import warnings\n",
    "import os\n",
    "import time\n",
    "\n",
    "warnings.filterwarnings('ignore')"
   ]
  },
  {
   "cell_type": "markdown",
   "id": "910a48a3-538d-48b1-aaf0-d7c4180666bc",
   "metadata": {},
   "source": [
    "<a id=\"2\"></a>\n",
    "## Loading Data"
   ]
  },
  {
   "cell_type": "code",
   "execution_count": 3,
   "id": "9024b8c1-5230-4015-9ff6-78e6c968471b",
   "metadata": {},
   "outputs": [
    {
     "name": "stdout",
     "output_type": "stream",
     "text": [
      "Banded_Chlorosis: 424\n",
      "Banded_Chlorosis: 40.247483015060425\n",
      "Brown_Rust: 282\n",
      "Brown_Rust: 68.05337119102478\n"
     ]
    }
   ],
   "source": [
    "raw_data = {'Banded_Chlorosis':[], 'Brown_Rust':[], 'Brown_Spot':[], 'Healthy':[], 'Viral':[], 'Yellow_Leaf':[]}\n",
    "classifications = ['Banded_Chlorosis', 'Brown_Rust', 'Brown_Spot', 'Healthy', 'Viral', 'Yellow_Leaf']\n",
    "\n",
    "start = time.time()\n",
    "\n",
    "raw_data_matrix = []\n",
    "for classification in classifications[:2]:\n",
    "    class_data = os.listdir(f\"./sugarcane_train/{classification}\")\n",
    "    class_data.sort()\n",
    "    print(f\"{classification}:\", len(class_data))\n",
    "\n",
    "    for data in class_data:\n",
    "        with Image.open(f\"./sugarcane_train/{classification}/{data}\") as image:            \n",
    "            sample = list(image.convert(\"RGB\").getdata()) + [classification]\n",
    "            raw_data_matrix.append(sample)\n",
    "            \n",
    "    end = time.time()\n",
    "    print(f\"{classification}:\", end - start)\n",
    "\n",
    "# Any results you write to the current directory are saved as output."
   ]
  },
  {
   "cell_type": "code",
   "execution_count": null,
   "id": "1e5d1ed8-a828-4a41-9068-1794d620b390",
   "metadata": {},
   "outputs": [],
   "source": [
    "raw_df = pd.DataFrame(raw_data_matrix, columns=[f\"pixel_{i}\" for i in range(1, 768*1024 + 1)] + [\"class\"])"
   ]
  },
  {
   "cell_type": "code",
   "execution_count": null,
   "id": "5ea78d30-4fb1-4a51-865f-460ce2dcbdfa",
   "metadata": {},
   "outputs": [],
   "source": [
    "# read train \n",
    "# train = pd.read_csv(\"train.csv\")\n",
    "# print(train.shape)\n",
    "# train.head()"
   ]
  },
  {
   "cell_type": "code",
   "execution_count": 5,
   "id": "4ac1f895-8f13-4272-bae4-6a569864bcc6",
   "metadata": {},
   "outputs": [],
   "source": [
    "# read test \n",
    "# test= pd.read_csv(\"test.csv\")\n",
    "# print(test.shape)\n",
    "# test.head()"
   ]
  },
  {
   "cell_type": "code",
   "execution_count": 6,
   "id": "d2750795-ce66-4ae1-91a8-68a494b7d233",
   "metadata": {},
   "outputs": [],
   "source": [
    "# put labels into y_train variable\n",
    "# Y_train = train[\"label\"]\n",
    "# # Drop 'label' column\n",
    "# X_train = train.drop(labels = [\"label\"],axis = 1) \n",
    "# Y_train.value_counts()"
   ]
  },
  {
   "cell_type": "code",
   "execution_count": 7,
   "id": "5b064970-0229-4b13-9de9-1bc5fe363fc9",
   "metadata": {},
   "outputs": [],
   "source": [
    "# plot some samples\n",
    "# img = X_train.iloc[0].to_numpy()\n",
    "# img = img.reshape((28,28))\n",
    "# plt.imshow(img,cmap='gray')\n",
    "# plt.title(train.iloc[0,0])\n",
    "# plt.axis(\"off\")\n",
    "# plt.show()"
   ]
  },
  {
   "cell_type": "markdown",
   "id": "bfb8f96f-12d7-40e0-a64f-fef4991de6eb",
   "metadata": {},
   "source": [
    "# Data Cleaning"
   ]
  },
  {
   "cell_type": "code",
   "execution_count": null,
   "id": "08f92bc1-d61b-41ed-b8ca-47085e0b7766",
   "metadata": {},
   "outputs": [],
   "source": []
  }
 ],
 "metadata": {
  "kernelspec": {
   "display_name": "Python 3 (ipykernel)",
   "language": "python",
   "name": "python3"
  },
  "language_info": {
   "codemirror_mode": {
    "name": "ipython",
    "version": 3
   },
   "file_extension": ".py",
   "mimetype": "text/x-python",
   "name": "python",
   "nbconvert_exporter": "python",
   "pygments_lexer": "ipython3",
   "version": "3.13.3"
  }
 },
 "nbformat": 4,
 "nbformat_minor": 5
}
